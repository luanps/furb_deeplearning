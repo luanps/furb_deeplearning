{
 "cells": [
  {
   "cell_type": "code",
   "execution_count": 1,
   "id": "4fe998c9",
   "metadata": {
    "ExecuteTime": {
     "end_time": "2021-05-17T01:31:32.901223Z",
     "start_time": "2021-05-17T01:31:28.936934Z"
    }
   },
   "outputs": [],
   "source": [
    "from torch import nn, optim\n",
    "import torch\n",
    "from torchvision import datasets, transforms\n",
    "import torch.nn.functional as F\n",
    "import matplotlib.pyplot as plt"
   ]
  },
  {
   "cell_type": "code",
   "execution_count": 2,
   "id": "bc50ab88",
   "metadata": {
    "ExecuteTime": {
     "end_time": "2021-05-17T01:31:32.962255Z",
     "start_time": "2021-05-17T01:31:32.924953Z"
    }
   },
   "outputs": [],
   "source": [
    "#Network architecture\n",
    "'''class Classifier(nn.Module):\n",
    "    def __init__(self):\n",
    "        super().__init__()\n",
    "        self.fc1 = nn.Linear(784, 256)\n",
    "        self.fc2 = nn.Linear(256, 128)\n",
    "        self.fc3 = nn.Linear(128, 64)\n",
    "        self.fc4 = nn.Linear(64, 10)\n",
    "\n",
    "        #20% probability Dropout \n",
    "        self.dropout = nn.Dropout(p=.2)\n",
    "\n",
    "    def forward(self, x):\n",
    "        #flatten input tensor\n",
    "        x = x.view(x.shape[0], -1)\n",
    "\n",
    "        x = self.dropout(F.relu(self.fc1(x)))\n",
    "        x = self.dropout(F.relu(self.fc2(x)))\n",
    "        x = self.dropout(F.relu(self.fc3(x)))\n",
    "        x = F.log_softmax(self.fc4(x), dim=1)\n",
    "        return x'''\n",
    "                        \n",
    "class Classifier(nn.Module):\n",
    "    def __init__(self):\n",
    "        super().__init__()\n",
    "        self.conv1 = nn.Conv2d(1, 6, 5, padding=2)\n",
    "        self.conv2 = nn.Conv2d(6,16, 5, padding=0)\n",
    "\n",
    "        self.fc1 = nn.Linear(16*5*5, 120)\n",
    "        self.fc2 = nn.Linear(120, 84)\n",
    "        self.fc3 = nn.Linear(84, 10)\n",
    "\n",
    "        self.pool = nn.AvgPool2d(2, 2)\n",
    "\n",
    "    def forward(self, x):\n",
    "\n",
    "        x = F.sigmoid(self.conv1(x))\n",
    "        x = self.pool(x)\n",
    "        \n",
    "        x = F.sigmoid(self.conv2(x))\n",
    "        x = self.pool(x)\n",
    "        \n",
    "        x = x.view(x.shape[0], -1)\n",
    "        \n",
    "        x = F.sigmoid(self.fc1(x))\n",
    "        x = F.sigmoid(self.fc2(x))\n",
    "        x = self.fc3(x)\n",
    "        \n",
    "        return x  "
   ]
  },
  {
   "cell_type": "code",
   "execution_count": 30,
   "id": "86bcc796",
   "metadata": {
    "ExecuteTime": {
     "end_time": "2021-05-17T00:40:13.828537Z",
     "start_time": "2021-05-17T00:40:13.780205Z"
    }
   },
   "outputs": [
    {
     "name": "stdout",
     "output_type": "stream",
     "text": [
      "----------------------------------------------------------------\n",
      "        Layer (type)               Output Shape         Param #\n",
      "================================================================\n",
      "            Conv2d-1            [-1, 6, 28, 28]             156\n",
      "         AvgPool2d-2            [-1, 6, 14, 14]               0\n",
      "            Conv2d-3           [-1, 16, 10, 10]           2,416\n",
      "         AvgPool2d-4             [-1, 16, 5, 5]               0\n",
      "            Linear-5                  [-1, 120]          48,120\n",
      "            Linear-6                   [-1, 84]          10,164\n",
      "            Linear-7                   [-1, 10]             850\n",
      "================================================================\n",
      "Total params: 61,706\n",
      "Trainable params: 61,706\n",
      "Non-trainable params: 0\n",
      "----------------------------------------------------------------\n",
      "Input size (MB): 0.00\n",
      "Forward/backward pass size (MB): 0.06\n",
      "Params size (MB): 0.24\n",
      "Estimated Total Size (MB): 0.30\n",
      "----------------------------------------------------------------\n"
     ]
    }
   ],
   "source": [
    "from torchsummary import summary\n",
    "\n",
    "model = Classifier()\n",
    "summary(model, (1,28,28))"
   ]
  },
  {
   "cell_type": "code",
   "execution_count": 3,
   "id": "c9610370",
   "metadata": {
    "ExecuteTime": {
     "end_time": "2021-05-17T01:31:35.329971Z",
     "start_time": "2021-05-17T01:31:34.888721Z"
    }
   },
   "outputs": [],
   "source": [
    "transform = transforms.ToTensor()\n",
    "\n",
    "#Download and load training data\n",
    "trainset = datasets.MNIST('~/.pytorch/MNIST_data/',download=True,train=True,transform=transform)\n",
    "trainLoader = torch.utils.data.DataLoader(trainset, batch_size=64,shuffle=True)\n",
    "\n",
    "#Download and load test data\n",
    "testset = datasets.MNIST('~/.pytorch/MNIST_data/',download=True,train=False,transform=transform)\n",
    "testLoader = torch.utils.data.DataLoader(testset, batch_size=64,shuffle=True)"
   ]
  },
  {
   "cell_type": "code",
   "execution_count": 32,
   "id": "eea80459",
   "metadata": {
    "ExecuteTime": {
     "end_time": "2021-05-17T00:49:48.999523Z",
     "start_time": "2021-05-17T00:49:48.652769Z"
    }
   },
   "outputs": [
    {
     "data": {
      "text/plain": [
       "<matplotlib.image.AxesImage at 0x1287e6af0>"
      ]
     },
     "execution_count": 32,
     "metadata": {},
     "output_type": "execute_result"
    },
    {
     "data": {
      "image/png": "[encoded data removed]",
      "text/plain": [
       "<Figure size 432x288 with 1 Axes>"
      ]
     },
     "metadata": {
      "needs_background": "light"
     },
     "output_type": "display_data"
    }
   ],
   "source": [
    "image, label = next(iter(trainLoader))\n",
    "plt.imshow(image[0,:].reshape(28,28),cmap='binary')"
   ]
  },
  {
   "cell_type": "code",
   "execution_count": 11,
   "id": "4368b479",
   "metadata": {
    "ExecuteTime": {
     "end_time": "2021-05-17T01:37:36.273400Z",
     "start_time": "2021-05-17T01:33:28.677754Z"
    }
   },
   "outputs": [
    {
     "name": "stdout",
     "output_type": "stream",
     "text": [
      "Training loss: 699.5331731140614\n",
      "Epoch: 1/10..  Training Loss: 0.746..  Test Loss: 0.199..  Test Acc: 0.938.. \n",
      "Training loss: 138.27781897969544\n",
      "Epoch: 2/10..  Training Loss: 0.147..  Test Loss: 0.105..  Test Acc: 0.970.. \n",
      "Training loss: 87.45551963755861\n",
      "Epoch: 3/10..  Training Loss: 0.093..  Test Loss: 0.072..  Test Acc: 0.979.. \n",
      "Training loss: 67.80541055789217\n",
      "Epoch: 4/10..  Training Loss: 0.072..  Test Loss: 0.062..  Test Acc: 0.982.. \n",
      "Training loss: 55.42793013621122\n",
      "Epoch: 5/10..  Training Loss: 0.059..  Test Loss: 0.064..  Test Acc: 0.980.. \n",
      "Training loss: 45.503746823058464\n",
      "Epoch: 6/10..  Training Loss: 0.049..  Test Loss: 0.047..  Test Acc: 0.984.. \n",
      "Training loss: 40.4586915448308\n",
      "Epoch: 7/10..  Training Loss: 0.043..  Test Loss: 0.050..  Test Acc: 0.984.. \n",
      "Training loss: 35.74117037106771\n",
      "Epoch: 8/10..  Training Loss: 0.038..  Test Loss: 0.044..  Test Acc: 0.986.. \n",
      "Training loss: 31.99353339278605\n",
      "Epoch: 9/10..  Training Loss: 0.034..  Test Loss: 0.038..  Test Acc: 0.988.. \n",
      "Training loss: 26.53743819653755\n",
      "Epoch: 10/10..  Training Loss: 0.028..  Test Loss: 0.044..  Test Acc: 0.986.. \n"
     ]
    }
   ],
   "source": [
    "model = Classifier()\n",
    "#criterion = nn.NLLLoss()\n",
    "criterion = nn.CrossEntropyLoss()\n",
    "optimizer = optim.Adam(model.parameters(), lr=0.003)\n",
    "\n",
    "epochs = 10#30\n",
    "steps = 0\n",
    "train_losses, test_losses = [], []\n",
    "for e in range(epochs):\n",
    "    running_loss = 0\n",
    "    for imgs, labels, in trainLoader:\n",
    "        logps = model(imgs)\n",
    "        loss = criterion(logps, labels)\n",
    "\n",
    "        optimizer.zero_grad()\n",
    "        loss.backward()\n",
    "        optimizer.step()\n",
    "\n",
    "        running_loss += loss.item()\n",
    "    else:\n",
    "        print(f\"Training loss: {running_loss}\")\n",
    "        \n",
    "        test_loss = 0\n",
    "        acc = 0\n",
    "        #Disable gradients for validation\n",
    "        with torch.no_grad():\n",
    "            #set model to evaluation mode (w/o dropout)\n",
    "            model.eval()\n",
    "\n",
    "            for imgs, labels in testLoader:\n",
    "                log_ps = model(imgs)\n",
    "                test_loss += criterion(log_ps, labels)\n",
    "                #class probability\n",
    "                ps = torch.exp(log_ps)\n",
    "                #most likely classes\n",
    "                top_p, top_class = ps.topk(1, dim=1)\n",
    "                #check if top classes matches with the labels\n",
    "                equals = top_class == labels.view(*top_class.shape)\n",
    "                #convert 'equals' to a float tensor\n",
    "                acc += torch.mean(equals.type(torch.FloatTensor))\n",
    "\n",
    "        train_losses.append(running_loss/len(trainLoader))\n",
    "        test_losses.append(test_loss/len(testLoader))\n",
    "        print(\"Epoch: {}/{}.. \".format(e+1,epochs),\n",
    "                \"Training Loss: {:.3f}.. \".format(running_loss/len(trainLoader)),\n",
    "                \"Test Loss: {:.3f}.. \".format(test_loss/len(testLoader)),\n",
    "                \"Test Acc: {:.3f}.. \".format(acc/len(testLoader)))\n",
    "\n",
    "        #set model back to train mode\n",
    "        model.train()"
   ]
  },
  {
   "cell_type": "code",
   "execution_count": 34,
   "id": "360676cc",
   "metadata": {
    "ExecuteTime": {
     "end_time": "2021-05-17T01:04:11.129702Z",
     "start_time": "2021-05-17T01:04:10.904397Z"
    }
   },
   "outputs": [
    {
     "data": {
      "image/png": "[encoded data removed]",
      "text/plain": [
       "<Figure size 432x288 with 1 Axes>"
      ]
     },
     "metadata": {
      "needs_background": "light"
     },
     "output_type": "display_data"
    }
   ],
   "source": [
    "#Plot Train and Validation loss\n",
    "plt.plot(train_losses, label='Training loss')\n",
    "plt.plot(test_losses, label='Validation loss')\n",
    "plt.legend(frameon=False)\n",
    "plt.xlabel('Epochs')\n",
    "plt.ylabel('Error')\n",
    "plt.show()"
   ]
  },
  {
   "cell_type": "code",
   "execution_count": 51,
   "id": "10b3fd98",
   "metadata": {
    "ExecuteTime": {
     "end_time": "2021-05-17T02:11:57.528344Z",
     "start_time": "2021-05-17T02:11:57.521991Z"
    }
   },
   "outputs": [],
   "source": [
    "import numpy as np"
   ]
  },
  {
   "cell_type": "code",
   "execution_count": 54,
   "id": "958fc55d",
   "metadata": {
    "ExecuteTime": {
     "end_time": "2021-05-17T02:12:23.716895Z",
     "start_time": "2021-05-17T02:12:23.690237Z"
    },
    "scrolled": true
   },
   "outputs": [],
   "source": [
    "def visTensor(tensor, ch=0, allkernels=False, nrow=8, padding=1): \n",
    "    n,c,w,h = tensor.shape\n",
    "\n",
    "    if allkernels: tensor = tensor.view(n*c, -1, w, h)\n",
    "    elif c != 3: tensor = tensor[:,ch,:,:].unsqueeze(dim=1)\n",
    "\n",
    "    rows = np.min((tensor.shape[0] // nrow + 1, 64))    \n",
    "    grid = torchvision.utils.make_grid(tensor, nrow=nrow, normalize=True, padding=padding)\n",
    "    plt.figure( figsize=(nrow,rows) )\n",
    "    plt.imshow(grid.numpy().transpose((1, 2, 0)))"
   ]
  },
  {
   "cell_type": "code",
   "execution_count": 67,
   "id": "b6e182bc",
   "metadata": {
    "ExecuteTime": {
     "end_time": "2021-05-17T02:16:02.184252Z",
     "start_time": "2021-05-17T02:16:02.025623Z"
    }
   },
   "outputs": [
    {
     "name": "stdout",
     "output_type": "stream",
     "text": [
      "torch.Size([16, 6, 5, 5])\n"
     ]
    },
    {
     "data": {
      "image/png": "[encoded data removed]",
      "text/plain": [
       "<Figure size 576x936 with 1 Axes>"
      ]
     },
     "metadata": {
      "needs_background": "light"
     },
     "output_type": "display_data"
    }
   ],
   "source": [
    "filtr = model.conv2.weight.clone()\n",
    "print(filtr.shape)\n",
    "visTensor(filtr, ch=0, allkernels=True)\n",
    "\n",
    "plt.axis('off')\n",
    "plt.ioff()\n",
    "plt.show()"
   ]
  },
  {
   "cell_type": "code",
   "execution_count": 7,
   "id": "a0b778fa",
   "metadata": {
    "ExecuteTime": {
     "end_time": "2021-05-16T22:49:47.983838Z",
     "start_time": "2021-05-16T22:49:47.740723Z"
    }
   },
   "outputs": [
    {
     "data": {
      "image/png": "[encoded data removed]",
      "text/plain": [
       "<Figure size 432x288 with 1 Axes>"
      ]
     },
     "metadata": {
      "needs_background": "light"
     },
     "output_type": "display_data"
    }
   ],
   "source": [
    "#Plot Train and Validation loss\n",
    "plt.plot(train_losses, label='Training loss')\n",
    "plt.plot(test_losses, label='Validation loss')\n",
    "plt.legend(frameon=False)\n",
    "plt.xlabel('Epochs')\n",
    "plt.ylabel('Error')\n",
    "plt.show()"
   ]
  },
  {
   "cell_type": "code",
   "execution_count": 8,
   "id": "77059e25",
   "metadata": {
    "ExecuteTime": {
     "end_time": "2021-05-16T22:49:48.017951Z",
     "start_time": "2021-05-16T22:49:47.989722Z"
    }
   },
   "outputs": [
    {
     "name": "stdout",
     "output_type": "stream",
     "text": [
      "Model:' \n",
      "\n",
      " Classifier(\n",
      "  (fc1): Linear(in_features=784, out_features=256, bias=True)\n",
      "  (fc2): Linear(in_features=256, out_features=128, bias=True)\n",
      "  (fc3): Linear(in_features=128, out_features=64, bias=True)\n",
      "  (fc4): Linear(in_features=64, out_features=10, bias=True)\n",
      "  (dropout): Dropout(p=0.2, inplace=False)\n",
      ") \n",
      "\n",
      "The state dict keys: \n",
      "\n",
      " odict_keys(['fc1.weight', 'fc1.bias', 'fc2.weight', 'fc2.bias', 'fc3.weight', 'fc3.bias', 'fc4.weight', 'fc4.bias'])\n"
     ]
    }
   ],
   "source": [
    "#Save model to file\n",
    "torch.save(model.state_dict(), 'checkpoint.pth')\n",
    "print(\"Model:' \\n\\n\", model, '\\n')\n",
    "print(\"The state dict keys: \\n\\n\", model.state_dict().keys())"
   ]
  }
 ],
 "metadata": {
  "kernelspec": {
   "display_name": "Python 3",
   "language": "python",
   "name": "python3"
  },
  "language_info": {
   "codemirror_mode": {
    "name": "ipython",
    "version": 3
   },
   "file_extension": ".py",
   "mimetype": "text/x-python",
   "name": "python",
   "nbconvert_exporter": "python",
   "pygments_lexer": "ipython3",
   "version": "3.8.7"
  }
 },
 "nbformat": 4,
 "nbformat_minor": 5
}
