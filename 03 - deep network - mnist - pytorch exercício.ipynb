{
 "cells": [
  {
   "cell_type": "code",
   "execution_count": null,
   "id": "4fe998c9",
   "metadata": {
    "ExecuteTime": {
     "end_time": "2021-05-08T10:04:22.827934Z",
     "start_time": "2021-05-08T10:04:22.818480Z"
    }
   },
   "outputs": [],
   "source": [
    "from torch import nn, optim\n",
    "import torch\n",
    "from torchvision import datasets, transforms\n",
    "import torch.nn.functional as F\n",
    "import matplotlib.pyplot as plt"
   ]
  },
  {
   "cell_type": "code",
   "execution_count": null,
   "id": "bc50ab88",
   "metadata": {
    "ExecuteTime": {
     "end_time": "2021-05-08T10:04:23.400651Z",
     "start_time": "2021-05-08T10:04:23.388483Z"
    }
   },
   "outputs": [],
   "source": [
    "#Network architecture\n",
    "class Classifier(nn.Module):\n",
    "    def __init__(self):\n",
    "        super().__init__()\n",
    "        #TODO: definir camadas da rede\n",
    "        self.fc1 = #nn.Linear (entrada, saida)\n",
    "\n",
    "        #TODO: dropout \n",
    "        self.dropout = \n",
    "\n",
    "    def forward(self, x):\n",
    "        #flatten input tensor\n",
    "        x = x.view(x.shape[0], -1)\n",
    "\n",
    "        #TODO: estrutura da rede\n",
    "        # camada fc()\n",
    "        #camada de ativacao\n",
    "        #dropout\n",
    "        \n",
    "        #ultima camada\n",
    "        x = F.log_softmax(self.fc4(x), dim=1)\n",
    "        return x"
   ]
  },
  {
   "cell_type": "code",
   "execution_count": null,
   "id": "c9610370",
   "metadata": {
    "ExecuteTime": {
     "end_time": "2021-05-08T10:13:55.047768Z",
     "start_time": "2021-05-08T10:11:52.074544Z"
    }
   },
   "outputs": [],
   "source": [
    "transform = transforms.ToTensor()\n",
    "\n",
    "#Download dados de treino\n",
    "trainset = datasets.MNIST('~/.pytorch/MNIST_data/',download=True,train=True,transform=transform)\n",
    "trainLoader = torch.utils.data.DataLoader(trainset, batch_size=64,shuffle=True)\n",
    "\n",
    "#Download dados de teste\n",
    "testset = datasets.MNIST('~/.pytorch/MNIST_data/',download=True,train=False,transform=transform)\n",
    "testLoader = torch.utils.data.DataLoader(testset, batch_size=64,shuffle=True)"
   ]
  },
  {
   "cell_type": "code",
   "execution_count": null,
   "id": "eea80459",
   "metadata": {
    "ExecuteTime": {
     "end_time": "2021-05-08T10:15:24.023499Z",
     "start_time": "2021-05-08T10:15:23.712121Z"
    }
   },
   "outputs": [],
   "source": [
    "image, label = next(iter(trainLoader))\n",
    "plt.imshow(image[0,:].reshape(28,28),cmap='binary')"
   ]
  },
  {
   "cell_type": "code",
   "execution_count": null,
   "id": "4368b479",
   "metadata": {
    "ExecuteTime": {
     "end_time": "2021-05-08T10:16:31.947126Z",
     "start_time": "2021-05-08T10:15:38.464564Z"
    }
   },
   "outputs": [],
   "source": [
    "#parametros da rede\n",
    "\n",
    "model = Classifier()\n",
    "criterion = nn.NLLLoss()\n",
    "lr = \n",
    "epochs = 30\n",
    "#TODO definir otimizador sgd,adam,rmsprop e passar parametros\n",
    "optimizer = \n",
    "\n",
    "train_losses, test_losses = [], []\n",
    "for e in range(epochs):\n",
    "    running_loss = 0\n",
    "    for imgs, labels, in trainLoader:\n",
    "        \n",
    "        #forward propagation\n",
    "        logps = model(imgs)\n",
    "        loss = criterion(logps, labels)\n",
    "\n",
    "        #zera o gradiente do otimizador\n",
    "        optimizer.zero_grad()\n",
    "        \n",
    "        #backpropagation\n",
    "        loss.backward()\n",
    "        optimizer.step()\n",
    "\n",
    "        running_loss += loss.item()\n",
    "    else:\n",
    "        print(f\"Training loss: {running_loss}\")\n",
    "        \n",
    "        test_loss = 0\n",
    "        acc = 0\n",
    "        #desativa calculo do gradiente (para modo evaluation)\n",
    "        with torch.no_grad():\n",
    "            #ativa modo evaluation\n",
    "            model.eval()\n",
    "\n",
    "            for imgs, labels in testLoader:\n",
    "                log_ps = model(imgs)\n",
    "                test_loss += criterion(log_ps, labels)\n",
    "                \n",
    "                #probabilidade da classe\n",
    "                ps = torch.exp(log_ps)\n",
    "                \n",
    "                #maior prob\n",
    "                top_p, top_class = ps.topk(1, dim=1)\n",
    "                \n",
    "                # verifica se top classes é um label\n",
    "                equals = top_class == labels.view(*top_class.shape)\n",
    "                \n",
    "                #converte para tensor\n",
    "                acc += torch.mean(equals.type(torch.FloatTensor))\n",
    "\n",
    "        #acumula metricas\n",
    "        train_losses.append(running_loss/len(trainLoader))\n",
    "        test_losses.append(test_loss/len(testLoader))\n",
    "        print(\"Epoch: {}/{}.. \".format(e+1,epochs),\n",
    "                \"Training Loss: {:.3f}.. \".format(running_loss/len(trainLoader)),\n",
    "                \"Test Loss: {:.3f}.. \".format(test_loss/len(testLoader)),\n",
    "                \"Test Acc: {:.3f}.. \".format(acc/len(testLoader)))\n",
    "\n",
    "        #ativa modo treino\n",
    "        model.train()"
   ]
  },
  {
   "cell_type": "code",
   "execution_count": null,
   "id": "a0b778fa",
   "metadata": {
    "ExecuteTime": {
     "end_time": "2021-05-08T10:16:40.923514Z",
     "start_time": "2021-05-08T10:16:40.606391Z"
    }
   },
   "outputs": [],
   "source": [
    "#Plot Train and Validation loss\n",
    "plt.plot(train_losses, label='Training loss')\n",
    "plt.plot(test_losses, label='Validation loss')\n",
    "plt.legend(frameon=False)\n",
    "plt.xlabel('Epochs')\n",
    "plt.ylabel('Error')\n",
    "plt.show()"
   ]
  },
  {
   "cell_type": "code",
   "execution_count": null,
   "id": "77059e25",
   "metadata": {
    "ExecuteTime": {
     "end_time": "2021-05-08T10:16:46.633920Z",
     "start_time": "2021-05-08T10:16:46.589774Z"
    }
   },
   "outputs": [],
   "source": [
    "#Save model to file\n",
    "torch.save(model.state_dict(), 'checkpoint.pth')\n",
    "print(\"Model:' \\n\\n\", model, '\\n')\n",
    "print(\"The state dict keys: \\n\\n\", model.state_dict().keys())"
   ]
  }
 ],
 "metadata": {
  "kernelspec": {
   "display_name": "Python 3",
   "language": "python",
   "name": "python3"
  },
  "language_info": {
   "codemirror_mode": {
    "name": "ipython",
    "version": 3
   },
   "file_extension": ".py",
   "mimetype": "text/x-python",
   "name": "python",
   "nbconvert_exporter": "python",
   "pygments_lexer": "ipython3",
   "version": "3.8.7"
  }
 },
 "nbformat": 4,
 "nbformat_minor": 5
}
