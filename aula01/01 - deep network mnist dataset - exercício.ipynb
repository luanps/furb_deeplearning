{
 "cells": [
  {
   "cell_type": "markdown",
   "metadata": {
    "ExecuteTime": {
     "end_time": "2021-05-04T18:34:22.630204Z",
     "start_time": "2021-05-04T18:34:22.521755Z"
    },
    "hide_input": false
   },
   "source": [
    "Exercício: Implementar uma rede neural com N camadas\n",
    "        \n",
    "    - Inicializar parâmetros\n",
    "    - Forward propagation\n",
    "        - Linear\n",
    "        - Ativação (sigmoide)\n",
    "        - Custo\n",
    "    - Backpropagation - \n",
    "        - Ativação (sigmoide)\n",
    "        - Linear\n",
    "    - Atualizar parâmetros\n",
    "    "
   ]
  },
  {
   "cell_type": "code",
   "execution_count": 1,
   "metadata": {
    "ExecuteTime": {
     "end_time": "2021-05-13T11:11:18.742441Z",
     "start_time": "2021-05-13T11:11:14.875778Z"
    }
   },
   "outputs": [],
   "source": [
    "import matplotlib.pyplot as plt\n",
    "import numpy as np\n",
    "import pandas as pd\n",
    "from sklearn.datasets import fetch_openml\n",
    "#from sklearn.model_selection import train_test_split"
   ]
  },
  {
   "cell_type": "markdown",
   "metadata": {},
   "source": [
    "### Base de dados MNIST\n",
    "\n",
    "https://www.openml.org/d/554\n",
    "http://yann.lecun.com/exdb/mnist/"
   ]
  },
  {
   "cell_type": "code",
   "execution_count": 2,
   "metadata": {
    "ExecuteTime": {
     "end_time": "2021-05-13T11:12:49.327285Z",
     "start_time": "2021-05-13T11:11:18.746395Z"
    }
   },
   "outputs": [],
   "source": [
    "mnist = fetch_openml('mnist_784')"
   ]
  },
  {
   "cell_type": "code",
   "execution_count": 3,
   "metadata": {
    "ExecuteTime": {
     "end_time": "2021-05-13T11:12:49.388153Z",
     "start_time": "2021-05-13T11:12:49.334833Z"
    }
   },
   "outputs": [
    {
     "data": {
      "text/plain": [
       "dict_keys(['data', 'target', 'frame', 'categories', 'feature_names', 'target_names', 'DESCR', 'details', 'url'])"
      ]
     },
     "execution_count": 3,
     "metadata": {},
     "output_type": "execute_result"
    }
   ],
   "source": [
    "mnist.keys()"
   ]
  },
  {
   "cell_type": "code",
   "execution_count": 4,
   "metadata": {
    "ExecuteTime": {
     "end_time": "2021-05-13T11:12:49.430771Z",
     "start_time": "2021-05-13T11:12:49.396134Z"
    }
   },
   "outputs": [
    {
     "data": {
      "text/plain": [
       "pandas.core.frame.DataFrame"
      ]
     },
     "execution_count": 4,
     "metadata": {},
     "output_type": "execute_result"
    }
   ],
   "source": [
    "type(mnist['data'])"
   ]
  },
  {
   "cell_type": "code",
   "execution_count": 5,
   "metadata": {
    "ExecuteTime": {
     "end_time": "2021-05-13T11:12:49.544621Z",
     "start_time": "2021-05-13T11:12:49.437356Z"
    }
   },
   "outputs": [],
   "source": [
    "mnist_data = mnist['data'][mnist['target'].isin(['0','1'])]\n",
    "mnist_data = mnist_data.to_numpy()"
   ]
  },
  {
   "cell_type": "code",
   "execution_count": 6,
   "metadata": {
    "ExecuteTime": {
     "end_time": "2021-05-13T11:12:49.591162Z",
     "start_time": "2021-05-13T11:12:49.547626Z"
    }
   },
   "outputs": [],
   "source": [
    "mnist_target = mnist['target'][mnist['target'].isin(['0','1'])]\n",
    "mnist_target = np.array([int(i) for i in mnist_target])"
   ]
  },
  {
   "cell_type": "code",
   "execution_count": 7,
   "metadata": {
    "ExecuteTime": {
     "end_time": "2021-05-13T11:12:52.564916Z",
     "start_time": "2021-05-13T11:12:49.595688Z"
    },
    "hide_input": false
   },
   "outputs": [
    {
     "name": "stdout",
     "output_type": "stream",
     "text": [
      "i: 11528 target: 1\n"
     ]
    },
    {
     "data": {
      "image/png": "[encoded data removed]",
      "text/plain": [
       "<Figure size 432x288 with 1 Axes>"
      ]
     },
     "metadata": {
      "needs_background": "light"
     },
     "output_type": "display_data"
    }
   ],
   "source": [
    "i = np.random.randint(len(mnist_target))\n",
    "\n",
    "plt.imshow(mnist_data[i].reshape(28,28),cmap='binary')\n",
    "print(f\"\"\"i: {i} target: {mnist_target[i]}\"\"\")"
   ]
  },
  {
   "cell_type": "code",
   "execution_count": 8,
   "metadata": {
    "ExecuteTime": {
     "end_time": "2021-05-13T11:12:52.600526Z",
     "start_time": "2021-05-13T11:12:52.594559Z"
    }
   },
   "outputs": [],
   "source": [
    "mnist_target_sample = mnist_target[:300]\n",
    "mnist_data_sample  = mnist_data[:300]"
   ]
  },
  {
   "cell_type": "code",
   "execution_count": 9,
   "metadata": {
    "ExecuteTime": {
     "end_time": "2021-05-13T11:12:52.656285Z",
     "start_time": "2021-05-13T11:12:52.611854Z"
    }
   },
   "outputs": [
    {
     "data": {
      "text/plain": [
       "((784, 300), (1, 300))"
      ]
     },
     "execution_count": 9,
     "metadata": {},
     "output_type": "execute_result"
    }
   ],
   "source": [
    "mnist_data_sample = mnist_data_sample.T\n",
    "mnist_target_sample = mnist_target_sample.reshape(mnist_target_sample.shape[0],-1).T\n",
    "mnist_data_sample.shape, mnist_target_sample.shape"
   ]
  },
  {
   "cell_type": "markdown",
   "metadata": {},
   "source": [
    "### Funções"
   ]
  },
  {
   "cell_type": "code",
   "execution_count": 10,
   "metadata": {
    "ExecuteTime": {
     "end_time": "2021-05-13T11:12:52.683754Z",
     "start_time": "2021-05-13T11:12:52.667694Z"
    },
    "hide_input": false
   },
   "outputs": [],
   "source": [
    "def sigmoid(Z):\n",
    "    \"\"\"\n",
    "    Ativação sigmoide\n",
    "    \n",
    "    Arguments:\n",
    "    Z -- array numpy\n",
    "    \n",
    "    Returns:\n",
    "    A -- valor de sigmoide(z) - vetor de mesmo tamanho que Z\n",
    "    cache -- uma cópia de Z (útil para o backpropagation)\n",
    "    \"\"\"\n",
    "    #TODO: função sigmoide\n",
    "    A = 1 / (1 + np.exp(-Z))\n",
    "    cache = Z\n",
    "    \n",
    "    return A, cache\n",
    "\n",
    "\n",
    "def relu(Z):\n",
    "    \"\"\"\n",
    "    Ativação RELU\n",
    "    \n",
    "    Arguments:\n",
    "    Z -- array numpy\n",
    "    \n",
    "    Returns:\n",
    "    A -- valor de relu(Z) - vetor de mesmo tamanho que Z\n",
    "    cache -- uma cópia de Z (útil para o backpropagation)\n",
    "    \"\"\"\n",
    "    \n",
    "    #TODO: funcao RELU\n",
    "    \n",
    "    assert (dZ.shape == Z.shape) \n",
    "    assert(A.shape == Z.shape)\n",
    "    \n",
    "    return A, cache\n",
    "\n",
    "\n",
    "def relu_backward(dA, cache):\n",
    "    \"\"\"\n",
    "    Derivada da função RELU (utilizada no backpropagation)\n",
    "    \n",
    "    Arguments:\n",
    "    dA -- gradience da ativação da camada posterior\n",
    "    cache -- valor de Z guardado em cache\n",
    "    \n",
    "    Returns:\n",
    "    dZ -- gradiente em função de Z\n",
    "    \"\"\"\n",
    "    \n",
    "    Z = cache\n",
    "    #copia a entrada dA para dZ\n",
    "    dZ = np.array(dA, copy=True) \n",
    "    \n",
    "    # Atualiza os valores de dZ para 0 quando Z <= 0\n",
    "    dZ[Z <= 0] = 0\n",
    "    \n",
    "    #verifica se os vetores tem mesma dimensao\n",
    "    assert (dZ.shape == Z.shape) \n",
    "    return dZ\n",
    "\n",
    "\n",
    "def sigmoid_backward(dA, cache):\n",
    "    \"\"\"\n",
    "    Derivada da funcao sigmoide (utilizada no backpropagation)\n",
    "    \n",
    "    Arguments:\n",
    "    dA -- gradience da ativação da camada posterior\n",
    "    cache -- valor de Z guardado em cache\n",
    "    \n",
    "    Returns:\n",
    "    dZ -- gradiente em função de Z\n",
    "    \"\"\"\n",
    "   \n",
    "    #TODO: derivada da função sigmoide\n",
    "    Z = cache\n",
    "    \n",
    "    s = 1/(1+np.exp(-Z))\n",
    "    dZ = dA * s * (1-s)\n",
    "    \n",
    "    \n",
    "    #verifica se os vetores tem mesma dimensao\n",
    "    assert (dZ.shape == Z.shape)\n",
    "    \n",
    "    return dZ"
   ]
  },
  {
   "cell_type": "code",
   "execution_count": 11,
   "metadata": {
    "ExecuteTime": {
     "end_time": "2021-05-13T11:12:52.721618Z",
     "start_time": "2021-05-13T11:12:52.688117Z"
    }
   },
   "outputs": [],
   "source": [
    "def init_params(layer_dims):\n",
    "    \"\"\"\n",
    "    Arguments:\n",
    "    layer_dims -- lista de inteiros onde cada elemento é o numero de nós de cada camada da rede\n",
    "    \n",
    "    Returns:\n",
    "    parameters -- dicionario python contendo os parametros \"W1\", \"b1\", ..., \"WL\", \"bL\":\n",
    "                    Wl -- matriz de pesos de dimensao: (layer_dims[l], layer_dims[l-1])\n",
    "                    bl -- vetor de bias de dimensao: (layer_dims[l], 1)\n",
    "                    \n",
    "    por exemplo, dado a entrada: \n",
    "    layer_dims = [10,20,1]\n",
    "    a saida deve ser o dicionario com as seguintes matrizes:\n",
    "    parameters = {\n",
    "                  'W1': array de dimensao (20,10),\n",
    "                  'b1': array de zeros de dimensao (20,1),\n",
    "                  'W2': array de dimensao (1,20),\n",
    "                  'b2': array de zeros de dimensao (1,1),\n",
    "                  }\n",
    "    \"\"\"\n",
    "    \n",
    "    np.random.seed(1)\n",
    "    parameters = {}\n",
    "    # numero de camadas na rede\n",
    "    L = len(layer_dims) \n",
    "\n",
    "    for l in range(1, L):\n",
    "        parameters['W' + str(l)] = np.zeros((layer_dims[l], layer_dims[l-1]))\n",
    "        #TODO: inicializar pesos\n",
    "        parameters['b' + str(l)] = np.zeros((layer_dims[l],1))\n",
    "        #TODO: inicializar bias\n",
    "        \n",
    "        assert(parameters['W' + str(l)].shape == (layer_dims[l], layer_dims[l-1]))\n",
    "        assert(parameters['b' + str(l)].shape == (layer_dims[l], 1))\n",
    "\n",
    "    return parameters"
   ]
  },
  {
   "cell_type": "code",
   "execution_count": 15,
   "metadata": {
    "ExecuteTime": {
     "end_time": "2021-05-13T11:18:04.258896Z",
     "start_time": "2021-05-13T11:18:04.247078Z"
    }
   },
   "outputs": [],
   "source": [
    "def linear_forward(A, W, b):\n",
    "    \"\"\"\n",
    "    calculo linear do forward propagation\n",
    "    \n",
    "    Arguments:\n",
    "    A -- vetor de ativação da camada anterior (ou da camada inicial de entrada - features) \n",
    "    W -- matriz de pesos: array numpy de dimensao: (tamanho layer atual,tamanhho layer anterior)\n",
    "    b -- bias vector, numpy array de dimensao: (tamanho layer atual, 1)\n",
    "    \n",
    "    Returns:\n",
    "    Z --  (valor a ser utilizado na funcao de ativacao)\n",
    "    cache -- dicionario python contendo  \"A\", \"W\",\"b\" , utilizado no backpropagation\n",
    "    \"\"\"\n",
    "    \n",
    "    #TODO: funcao linear para encontrar valor de Z\n",
    "    Z = W.dot(A) + b\n",
    "    #verifica se dimensao de Z esta correta\n",
    "    assert(Z.shape == (W.shape[0], A.shape[1]))\n",
    "    cache = (A, W, b)\n",
    "    \n",
    "    return Z, cache\n",
    "\n",
    "\n",
    "def linear_activation_forward(A_prev, W, b, activation):\n",
    "    \"\"\"\n",
    "    Forward propagation. Esta função chama o calculo linear e a função de ativação\n",
    "    \n",
    "    Arguments:\n",
    "    A_prev -- Vetor de ativação da camada anterior (ou vetor de features de entrada) \n",
    "              dimensão: (tamanho layer anterior, numero de amostras)\n",
    "    W -- matriz de pesos: array numpy de dimensão (tamanho layer atual, tamanho layer anterior)\n",
    "    b -- vetor de bias: array numpy de dimensão (tamanho layer atual, 1)\n",
    "    activation -- nome da ativação a ser utilizada: string ('sigoid', 'relu')\n",
    "    \n",
    "    Returns:\n",
    "    A -- saida da função de ativação\n",
    "    cache -- dicionario python contendo \"linear_cache\" e \"activation_cache\", utilizados no backpropagation\n",
    "    \"\"\"\n",
    "    \n",
    "    if activation == \"sigmoid\":\n",
    "        #TODO: chamar funcao linear\n",
    "        #TODO: chamar funcao de ativação sigmoide\n",
    "        # Entrada \"A_prev, W, b\". \n",
    "        # Saida: \"A, activation_cache\".\n",
    "        Z, linear_cache = linear_forward(A_prev, W, b)\n",
    "        A, activation_cache = sigmoid(Z)\n",
    "    \n",
    "    elif activation == \"relu\":\n",
    "        pass\n",
    "        #TODO: chamar funcao linear\n",
    "        #TODO: chamar funcao de ativação relu\n",
    "        # Entrada \"A_prev, W, b\". \n",
    "        # Saida: \"A, activation_cache\".\n",
    "   \n",
    "    #verifica se dimensao de A esta correta\n",
    "    assert (A.shape == (W.shape[0], A_prev.shape[1]))\n",
    "    #armazena cache\n",
    "    cache = (linear_cache, activation_cache)\n",
    "\n",
    "    return A, cache\n",
    "\n",
    "\n",
    "def forward(X, parameters):\n",
    "    \"\"\"\n",
    "    Forward propagation \n",
    "    - para as camadas L..L-1: [LINEAR->SIGMOID/RELU]*(L-1)\n",
    "    - para a ultima camada: ->LINEAR->SIGMOID\n",
    "    \n",
    "    Arguments:\n",
    "    X -- dados, array numpy\n",
    "    parameters -- parametros de inicialização da rede (saida da função init_params() )\n",
    "    \n",
    "    Returns:\n",
    "    AL -- ultima ativação da rede\n",
    "    caches -- lista de caches\n",
    "    \"\"\"\n",
    "\n",
    "    caches = []\n",
    "    A = X\n",
    "    #numero de camadas da rede\n",
    "    L = len(parameters) // 2 \n",
    "    \n",
    "    # percorre camadas L..L-1 [LINEAR -> SIGMOID/RELU]*(L-1). \n",
    "    for l in range(1, L):\n",
    "        A_prev = A \n",
    "        A, cache = linear_activation_forward(A_prev, parameters['W' + str(l)], parameters['b' + str(l)], activation = \"sigmoid\")\n",
    "        caches.append(cache)\n",
    "   \n",
    "    #ativação da ultima camada LINEAR -> SIGMOID.\n",
    "    AL, cache = linear_activation_forward(A, parameters['W' + str(L)], parameters['b' + str(L)], activation = \"sigmoid\")\n",
    "    caches.append(cache)\n",
    "    assert(AL.shape == (1,X.shape[1]))\n",
    "            \n",
    "    return AL, caches\n",
    "\n",
    "\n",
    "def compute_cost(AL, Y):\n",
    "    \"\"\"\n",
    "    Função de custo\n",
    "    Arguments:\n",
    "    AL -- vetor de probabilidades yˆ  de dimensão (1, numero de amostras)\n",
    "    Y -- labels de dimensão (1, numero de amostras)\n",
    "    Returns:\n",
    "    cost -- custo\n",
    "    \"\"\"\n",
    "   \n",
    "    #numero de amostras\n",
    "    m = Y.shape[1]\n",
    "\n",
    "    #TODO: calcular loss L(y^,Y)\n",
    "    cost = (1./m) * (-np.dot(Y,np.log(AL).T) - np.dot(1-Y, np.log(1-AL).T))\n",
    "   \n",
    "    #transforma custo em valor unico (exemplo: [[1.3]] para 1.3)\n",
    "    cost = np.squeeze(cost)\n",
    "    assert(cost.shape == ())\n",
    "    \n",
    "    return cost"
   ]
  },
  {
   "cell_type": "code",
   "execution_count": 16,
   "metadata": {
    "ExecuteTime": {
     "end_time": "2021-05-13T11:18:08.815563Z",
     "start_time": "2021-05-13T11:18:08.798857Z"
    }
   },
   "outputs": [],
   "source": [
    "def linear_backward(dZ, cache):\n",
    "    \"\"\"\n",
    "    Função linear do backpropagation\n",
    "    \n",
    "    Arguments:\n",
    "    dZ -- Gradiente do custo em relacão a saida linear (da camada atual l)\n",
    "    cache -- tupla com valores (A_prev, W, b) (previamente computados no forward propagation da camada atual)\n",
    "    \n",
    "    Returns:\n",
    "    dA_prev -- Gradiente do custo em relação a ativação da camada anterior l-1 (mesma dimensão de A_prev)\n",
    "    dW -- Gradiente do custo em relação aos pesos(W) da camada atual l (mesma dimensão de W)\n",
    "    db -- Gradiente do custo em relação ao bias da camada attual l (mesma dimensão de b)\n",
    "    \"\"\"\n",
    "    \n",
    "    A_prev, W, b = cache\n",
    "    m = A_prev.shape[1]\n",
    "\n",
    "    #TODO: calcular gradiente de dW\n",
    "    dW = 1./m * np.dot(dZ,A_prev.T)\n",
    "    db = 1./m * np.sum(dZ, axis = 1, keepdims = True) # gradiente em relação ao bias\n",
    "    dA_prev = np.dot(W.T, dZ)\n",
    "    #TODO: calcular gradiente dA_prev (entrada: matriz W transposta, dZ)\n",
    "   \n",
    "\n",
    "    # verifica dimensões\n",
    "    assert (dA_prev.shape == A_prev.shape)\n",
    "    assert (dW.shape == W.shape)\n",
    "    assert (db.shape == b.shape)\n",
    "    \n",
    "    return dA_prev, dW, db\n",
    "\n",
    "\n",
    "def linear_activation_backward(dA, cache, activation):\n",
    "    \"\"\"\n",
    "    Backward propagation. Esta função chama as funcoes de derivacao da ativação do calculo linear.\n",
    "\n",
    "    Arguments:\n",
    "    dA -- Gradiente da camada atual l\n",
    "    cache -- tupla de valores de cache (linear_cache, activation_cache)\n",
    "    activation -- ativação usada na camada. string: \"sigmoid\" ou \"relu\"\n",
    "    \n",
    "    Returns:\n",
    "    dA_prev -- Gradiente do custo em relação a activação da camada anterior l-1. mesma dimensão de A_prev\n",
    "    dW -- Gradiente do custo em relação aos pesos(W) da camada atual l), mesma dimensão de W\n",
    "    db -- Gradient do custo em relação ao bias(b) da camada atual l), mesma dimensão de b\n",
    "    \"\"\"\n",
    "    linear_cache, activation_cache = cache\n",
    "    \n",
    "    if activation == \"relu\":\n",
    "        pass\n",
    "        #TODO: chamar funcao relu_backward\n",
    "        #TODO: chamar funcao linear_backward\n",
    "        # Entrada \"dA, activation_cache\". \n",
    "        # Saida: \"dA_prev, dW, db\".\n",
    "        \n",
    "    elif activation == \"sigmoid\":\n",
    "        dZ = sigmoid_backward(dA, activation_cache)\n",
    "        dA_prev, dW, db = linear_backward(dZ, linear_cache)\n",
    "        \n",
    "        #TODO: chamar funcao sigmoid_backward\n",
    "        #TODO: chamar funcao linear_backward\n",
    "        # Entrada \"dA, activation_cache\". \n",
    "        # Saida: \"dA_prev, dW, db\".\n",
    "    \n",
    "    return dA_prev, dW, db\n",
    "\n",
    "\n",
    "def backprop(AL, Y, caches):\n",
    "    \"\"\"\n",
    "    Backward propagation para as camadas L..L-1 [LINEAR->SIGMOID/RELU] * (L-1) -> LINEAR -> SIGMOID group\n",
    "    \n",
    "    Arguments:\n",
    "    AL -- vetor de probabilidades (y^), saida da funcao forward()\n",
    "    Y -- vetor de labels\n",
    "    caches -- lista de caches\n",
    "    \n",
    "    Returns:\n",
    "    grads -- Dicionario com os gradientes com formato:\n",
    "             grads[\"dA\" + str(l)] = ... \n",
    "             grads[\"dW\" + str(l)] = ...\n",
    "             grads[\"db\" + str(l)] = ... \n",
    "    \"\"\"\n",
    "    grads = {}\n",
    "    #numero de camadas\n",
    "    L = len(caches) \n",
    "    #numero de amostras\n",
    "    m = AL.shape[1]\n",
    "    Y = Y.reshape(AL.shape)\n",
    "    \n",
    "    #inicializa backpropagation\n",
    "    dAL = - (np.divide(Y, AL) - np.divide(1 - Y, 1 - AL))\n",
    "    \n",
    "    #acessa o cache da ultima camada\n",
    "    current_cache = caches[L-1]\n",
    "    #gradiente da última camada (L)\n",
    "    grads[\"dA\" + str(L-1)], grads[\"dW\" + str(L)], grads[\"db\" + str(L)] = linear_activation_backward(dAL, current_cache, activation = \"sigmoid\")\n",
    "   \n",
    "    #backpropagation das demais camadas (L-1..L) em ordem reversa\n",
    "    for l in reversed(range(L-1)):\n",
    "        # lth layer: (RELU -> LINEAR) gradients.\n",
    "       \n",
    "        #gradiente da camada l\n",
    "        current_cache = caches[l]\n",
    "        dA_prev_temp, dW_temp, db_temp = linear_activation_backward(grads[\"dA\" + str(l + 1)], current_cache, activation = \"sigmoid\")\n",
    "        grads[\"dA\" + str(l)] = dA_prev_temp\n",
    "        grads[\"dW\" + str(l + 1)] = dW_temp\n",
    "        grads[\"db\" + str(l + 1)] = db_temp\n",
    "\n",
    "    return grads\n",
    "\n",
    "\n",
    "def update_parameters(parameters, grads, learning_rate):\n",
    "    \"\"\"\n",
    "    Atualiza os parâmetros da rede utilizando gradiente descendente\n",
    "    \n",
    "    Arguments:\n",
    "    parameters -- dicionario com os parametros\n",
    "    grads -- dicionario com os gradientes (saida do backpropagation)\n",
    "    \n",
    "    Returns:\n",
    "    parameters -- dicionario com os parametros atualizados no formato:\n",
    "                  parameters[\"W\" + str(l)] = ... \n",
    "                  parameters[\"b\" + str(l)] = ...\n",
    "    \"\"\"\n",
    "    #numero de camadas\n",
    "    L = len(parameters) // 2\n",
    "\n",
    "    # Update rule for each parameter. Use a for loop.\n",
    "    #Loop percorrendo as camadas e atualizando os vetores de parâmetros W,b\n",
    "    for l in range(L):\n",
    "        #TODO: atualizar os pesos (entrada: learning_rate e grads[dW l+1])\n",
    "        W_updated = parameters[\"W\" + str(l+1)] - learning_rate * grads[\"dW\" + str(l+1)]\n",
    "        #TODO: atualizar o bias (entrada: learning_rate e grads[db l+1])\n",
    "        b_updated = parameters[\"b\" + str(l+1)] - learning_rate * grads[\"db\" + str(l+1)]\n",
    "        parameters[\"W\" + str(l+1)] = W_updated\n",
    "        parameters[\"b\" + str(l+1)] = b_updated\n",
    "        \n",
    "    return parameters"
   ]
  },
  {
   "cell_type": "code",
   "execution_count": 17,
   "metadata": {
    "ExecuteTime": {
     "end_time": "2021-05-13T11:18:11.451505Z",
     "start_time": "2021-05-13T11:18:11.432770Z"
    }
   },
   "outputs": [],
   "source": [
    "def train_nn(X, Y, layers_dims, learning_rate, epochs, print_cost=False):\n",
    "    \"\"\"\n",
    "    Treinamento da rede\n",
    "    \n",
    "    Arguments:\n",
    "    X -- dados de dimensão (numero de features,numero de amostras)\n",
    "    Y -- labels anotados (0,1) de dimensao (1, numero de amostras)\n",
    "    \n",
    "    layers_dims -- lista contendo o numero de nos de cada camada\n",
    "    learning_rate -- taxa de aprendizado\n",
    "    epochs -- numero de iterações\n",
    "    print_cost -- imprime o custo a cada 100 iterações \n",
    "    \n",
    "    Returns:\n",
    "    parameters -- parâmetros aprendidos pelo modelo.\n",
    "    \"\"\"\n",
    "\n",
    "    np.random.seed(1)\n",
    "    costs = []\n",
    "    \n",
    "    parameters = init_params(layers_dims)\n",
    "    \n",
    "    for i in range(0, epochs):\n",
    "\n",
    "        AL, caches = forward(X, parameters)\n",
    "        \n",
    "        cost = compute_cost(AL, Y)\n",
    "    \n",
    "        grads = backprop(AL, Y, caches)\n",
    " \n",
    "        parameters = update_parameters(parameters, grads, learning_rate)\n",
    "                \n",
    "        if print_cost and i % 100 == 0:\n",
    "            print (f'Cost after {i} epochs: {cost}')\n",
    "        if print_cost and i % 100 == 0:\n",
    "            costs.append(cost)\n",
    "            \n",
    "    plt.plot(np.squeeze(costs))\n",
    "    plt.ylabel('cost')\n",
    "    plt.xlabel('iterations')\n",
    "    plt.title(f'Learning rate: {learning_rate}')\n",
    "    plt.show()\n",
    "    \n",
    "    return parameters"
   ]
  },
  {
   "cell_type": "code",
   "execution_count": 18,
   "metadata": {
    "ExecuteTime": {
     "end_time": "2021-05-13T11:18:12.407275Z",
     "start_time": "2021-05-13T11:18:12.388363Z"
    }
   },
   "outputs": [],
   "source": [
    "def predict(X, y, parameters):\n",
    "    \"\"\"\n",
    "    Função de predição\n",
    "    \n",
    "    Arguments:\n",
    "    X -- dados a serem testados\n",
    "    y -- labels (para computar acurácia do modelo)\n",
    "    parameters -- parametros do modelo treinado\n",
    "    \n",
    "    Returns:\n",
    "    p -- valores preditos pelo modelo\n",
    "    \"\"\"\n",
    "    \n",
    "    m = X.shape[1]\n",
    "    n = len(parameters) // 2 # number of layers in the neural network\n",
    "    p = np.zeros((1,m))\n",
    "    \n",
    "    # Forward propagation\n",
    "    probas, caches = forward(X, parameters)\n",
    "    \n",
    "    # convert probas to 0/1 predictions\n",
    "    for i in range(0, probas.shape[1]):\n",
    "        if probas[0,i] > 0.5:\n",
    "            p[0,i] = 1\n",
    "        else:\n",
    "            p[0,i] = 0\n",
    "            \n",
    "    acc = np.sum((p == y)/m)\n",
    "    print(f'Accuracy: {acc}')\n",
    "    return p"
   ]
  },
  {
   "cell_type": "markdown",
   "metadata": {},
   "source": [
    "### Run"
   ]
  },
  {
   "cell_type": "code",
   "execution_count": 19,
   "metadata": {
    "ExecuteTime": {
     "end_time": "2021-05-13T11:18:18.937408Z",
     "start_time": "2021-05-13T11:18:15.996539Z"
    },
    "scrolled": true
   },
   "outputs": [
    {
     "name": "stdout",
     "output_type": "stream",
     "text": [
      "Cost after 0 epochs: 0.6931471805599453\n",
      "Cost after 100 epochs: 0.5711569675360915\n",
      "Cost after 200 epochs: 0.48042405661622906\n",
      "Cost after 300 epochs: 0.43145673881149427\n",
      "Cost after 400 epochs: 0.4011879367798027\n"
     ]
    },
    {
     "data": {
      "image/png": "[encoded data removed]",
      "text/plain": [
       "<Figure size 432x288 with 1 Axes>"
      ]
     },
     "metadata": {
      "needs_background": "light"
     },
     "output_type": "display_data"
    }
   ],
   "source": [
    "#params\n",
    "layers_dims = [784,30,1]\n",
    "learning_rate = 0.001\n",
    "epochs = 500\n",
    "\n",
    "#executa o treinamento\n",
    "parameters = train_nn(mnist_data_sample, mnist_target_sample, layers_dims, learning_rate, epochs, print_cost = True)"
   ]
  },
  {
   "cell_type": "code",
   "execution_count": 20,
   "metadata": {
    "ExecuteTime": {
     "end_time": "2021-05-13T11:18:23.578361Z",
     "start_time": "2021-05-13T11:18:23.558497Z"
    }
   },
   "outputs": [
    {
     "name": "stdout",
     "output_type": "stream",
     "text": [
      "Accuracy: 1.0000000000000002\n"
     ]
    },
    {
     "data": {
      "text/plain": [
       "array([[0., 1., 1., 1., 1., 0., 1., 1., 0., 0., 1., 0., 0., 1., 0., 1.,\n",
       "        0., 0., 1., 1., 0., 1., 1., 0., 0., 0., 1., 1., 1., 1., 0., 1.,\n",
       "        1., 0., 0., 0., 0., 1., 1., 1., 1., 0., 0., 1., 1., 1., 0., 1.,\n",
       "        1., 1., 0., 1., 0., 0., 1., 0., 1., 0., 1., 0., 0., 0., 1., 0.,\n",
       "        1., 0., 1., 1., 1., 0., 1., 0., 0., 0., 1., 1., 1., 0., 0., 1.,\n",
       "        1., 1., 1., 1., 0., 1., 1., 1., 1., 1., 0., 1., 1., 1., 0., 0.,\n",
       "        0., 0., 1., 1., 1., 0., 0., 1., 1., 0., 0., 0., 1., 1., 0., 1.,\n",
       "        1., 0., 1., 1., 1., 1., 1., 0., 0., 0., 0., 1., 1., 1., 0., 1.,\n",
       "        1., 1., 1., 1., 0., 0., 1., 1., 0., 0., 1., 1., 0., 1., 0., 1.,\n",
       "        1., 0., 1., 0., 0., 0., 0., 0., 0., 1., 1., 1., 0., 1., 1., 0.,\n",
       "        0., 1., 1., 0., 0., 1., 0., 0., 1., 1., 0., 1., 1., 0., 1., 0.,\n",
       "        0., 1., 0., 1., 0., 1., 1., 1., 0., 0., 0., 0., 1., 1., 0., 0.,\n",
       "        1., 0., 1., 1., 1., 0., 1., 0., 0., 1., 0., 0., 1., 1., 0., 1.,\n",
       "        0., 1., 0., 1., 0., 0., 1., 1., 1., 0., 1., 0., 0., 0., 1., 0.,\n",
       "        1., 0., 0., 1., 1., 1., 1., 1., 0., 0., 1., 1., 1., 1., 0., 0.,\n",
       "        1., 0., 0., 1., 1., 1., 0., 1., 1., 0., 1., 0., 1., 0., 1., 0.,\n",
       "        1., 1., 0., 1., 1., 0., 1., 1., 1., 1., 1., 1., 1., 0., 1., 1.,\n",
       "        1., 0., 0., 1., 1., 0., 0., 1., 0., 0., 1., 0., 0., 1., 0., 0.,\n",
       "        1., 0., 0., 0., 1., 0., 1., 0., 1., 0., 1., 1.]])"
      ]
     },
     "execution_count": 20,
     "metadata": {},
     "output_type": "execute_result"
    }
   ],
   "source": [
    "predict(mnist_data_sample, mnist_target_sample, parameters)"
   ]
  }
 ],
 "metadata": {
  "kernelspec": {
   "display_name": "Python 3",
   "language": "python",
   "name": "python3"
  },
  "language_info": {
   "codemirror_mode": {
    "name": "ipython",
    "version": 3
   },
   "file_extension": ".py",
   "mimetype": "text/x-python",
   "name": "python",
   "nbconvert_exporter": "python",
   "pygments_lexer": "ipython3",
   "version": "3.8.7"
  }
 },
 "nbformat": 4,
 "nbformat_minor": 4
}
