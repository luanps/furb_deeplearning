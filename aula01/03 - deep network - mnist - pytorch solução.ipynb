{
 "cells": [
  {
   "cell_type": "code",
   "execution_count": 1,
   "id": "4fe998c9",
   "metadata": {
    "ExecuteTime": {
     "end_time": "2021-05-22T01:12:39.032926Z",
     "start_time": "2021-05-22T01:12:22.499462Z"
    }
   },
   "outputs": [],
   "source": [
    "from torch import nn, optim\n",
    "import torch\n",
    "from torchvision import datasets, transforms\n",
    "import torch.nn.functional as F\n",
    "import matplotlib.pyplot as plt"
   ]
  },
  {
   "cell_type": "code",
   "execution_count": 2,
   "id": "bc50ab88",
   "metadata": {
    "ExecuteTime": {
     "end_time": "2021-05-22T01:12:39.058266Z",
     "start_time": "2021-05-22T01:12:39.041916Z"
    }
   },
   "outputs": [],
   "source": [
    "#Network architecture\n",
    "class Classifier(nn.Module):\n",
    "    def __init__(self):\n",
    "        super().__init__()\n",
    "        self.fc1 = nn.Linear(784, 256)\n",
    "        self.fc2 = nn.Linear(256, 128)\n",
    "        self.fc3 = nn.Linear(128, 64)\n",
    "        self.fc4 = nn.Linear(64, 10)\n",
    "\n",
    "        #20% probability Dropout \n",
    "        self.dropout = nn.Dropout(p=.2)\n",
    "\n",
    "    def forward(self, x):\n",
    "        #flatten input tensor\n",
    "        x = x.view(x.shape[0], -1)\n",
    "\n",
    "        x = self.dropout(F.relu(self.fc1(x)))\n",
    "        x = self.dropout(F.relu(self.fc2(x)))\n",
    "        x = self.dropout(F.relu(self.fc3(x)))\n",
    "        x = F.log_softmax(self.fc4(x), dim=1)\n",
    "        return x"
   ]
  },
  {
   "cell_type": "code",
   "execution_count": 3,
   "id": "c9610370",
   "metadata": {
    "ExecuteTime": {
     "end_time": "2021-05-22T01:12:39.593033Z",
     "start_time": "2021-05-22T01:12:39.066235Z"
    }
   },
   "outputs": [],
   "source": [
    "transform = transforms.ToTensor()\n",
    "\n",
    "#Download and load training data\n",
    "trainset = datasets.MNIST('~/.pytorch/MNIST_data/',download=True,train=True,transform=transform)\n",
    "trainLoader = torch.utils.data.DataLoader(trainset, batch_size=64,shuffle=True)\n",
    "\n",
    "#Download and load test data\n",
    "testset = datasets.MNIST('~/.pytorch/MNIST_data/',download=True,train=False,transform=transform)\n",
    "testLoader = torch.utils.data.DataLoader(testset, batch_size=64,shuffle=True)"
   ]
  },
  {
   "cell_type": "code",
   "execution_count": 4,
   "id": "eea80459",
   "metadata": {
    "ExecuteTime": {
     "end_time": "2021-05-22T01:12:39.918989Z",
     "start_time": "2021-05-22T01:12:39.596591Z"
    }
   },
   "outputs": [
    {
     "data": {
      "text/plain": [
       "<matplotlib.image.AxesImage at 0x1269e0460>"
      ]
     },
     "execution_count": 4,
     "metadata": {},
     "output_type": "execute_result"
    },
    {
     "data": {
      "image/png": "[encoded data removed]",
      "text/plain": [
       "<Figure size 432x288 with 1 Axes>"
      ]
     },
     "metadata": {
      "needs_background": "light"
     },
     "output_type": "display_data"
    }
   ],
   "source": [
    "image, label = next(iter(trainLoader))\n",
    "plt.imshow(image[0,:].reshape(28,28),cmap='binary')"
   ]
  },
  {
   "cell_type": "code",
   "execution_count": 5,
   "id": "4368b479",
   "metadata": {
    "ExecuteTime": {
     "end_time": "2021-05-22T01:21:12.494774Z",
     "start_time": "2021-05-22T01:12:39.933600Z"
    }
   },
   "outputs": [
    {
     "name": "stdout",
     "output_type": "stream",
     "text": [
      "Training loss: 288.0809283275157\n",
      "Epoch: 1/30..  Training Loss: 0.307..  Test Loss: 0.130..  Test Acc: 0.962.. \n",
      "Training loss: 147.45665543805808\n",
      "Epoch: 2/30..  Training Loss: 0.157..  Test Loss: 0.123..  Test Acc: 0.963.. \n",
      "Training loss: 117.33179961005226\n",
      "Epoch: 3/30..  Training Loss: 0.125..  Test Loss: 0.112..  Test Acc: 0.969.. \n",
      "Training loss: 101.85691501328256\n",
      "Epoch: 4/30..  Training Loss: 0.109..  Test Loss: 0.084..  Test Acc: 0.977.. \n",
      "Training loss: 94.13051783083938\n",
      "Epoch: 5/30..  Training Loss: 0.100..  Test Loss: 0.086..  Test Acc: 0.976.. \n",
      "Training loss: 84.15320777520537\n",
      "Epoch: 6/30..  Training Loss: 0.090..  Test Loss: 0.089..  Test Acc: 0.978.. \n",
      "Training loss: 82.76181438367348\n",
      "Epoch: 7/30..  Training Loss: 0.088..  Test Loss: 0.085..  Test Acc: 0.977.. \n",
      "Training loss: 75.94218093436211\n",
      "Epoch: 8/30..  Training Loss: 0.081..  Test Loss: 0.086..  Test Acc: 0.978.. \n",
      "Training loss: 75.02457668608986\n",
      "Epoch: 9/30..  Training Loss: 0.080..  Test Loss: 0.080..  Test Acc: 0.979.. \n",
      "Training loss: 67.80017961226986\n",
      "Epoch: 10/30..  Training Loss: 0.072..  Test Loss: 0.088..  Test Acc: 0.979.. \n",
      "Training loss: 68.48872533562826\n",
      "Epoch: 11/30..  Training Loss: 0.073..  Test Loss: 0.091..  Test Acc: 0.980.. \n",
      "Training loss: 67.77336620271672\n",
      "Epoch: 12/30..  Training Loss: 0.072..  Test Loss: 0.086..  Test Acc: 0.979.. \n",
      "Training loss: 61.71194294869201\n",
      "Epoch: 13/30..  Training Loss: 0.066..  Test Loss: 0.103..  Test Acc: 0.978.. \n",
      "Training loss: 62.429577644434175\n",
      "Epoch: 14/30..  Training Loss: 0.067..  Test Loss: 0.086..  Test Acc: 0.981.. \n",
      "Training loss: 57.589546135335695\n",
      "Epoch: 15/30..  Training Loss: 0.061..  Test Loss: 0.087..  Test Acc: 0.979.. \n",
      "Training loss: 60.88011358649237\n",
      "Epoch: 16/30..  Training Loss: 0.065..  Test Loss: 0.095..  Test Acc: 0.979.. \n",
      "Training loss: 57.085228597701644\n",
      "Epoch: 17/30..  Training Loss: 0.061..  Test Loss: 0.086..  Test Acc: 0.980.. \n",
      "Training loss: 58.20204566512621\n",
      "Epoch: 18/30..  Training Loss: 0.062..  Test Loss: 0.105..  Test Acc: 0.978.. \n",
      "Training loss: 51.80955408974842\n",
      "Epoch: 19/30..  Training Loss: 0.055..  Test Loss: 0.106..  Test Acc: 0.979.. \n",
      "Training loss: 50.548945516780805\n",
      "Epoch: 20/30..  Training Loss: 0.054..  Test Loss: 0.109..  Test Acc: 0.979.. \n",
      "Training loss: 54.498514233702736\n",
      "Epoch: 21/30..  Training Loss: 0.058..  Test Loss: 0.106..  Test Acc: 0.979.. \n",
      "Training loss: 52.313919264197466\n",
      "Epoch: 22/30..  Training Loss: 0.056..  Test Loss: 0.107..  Test Acc: 0.981.. \n",
      "Training loss: 48.87852974474299\n",
      "Epoch: 23/30..  Training Loss: 0.052..  Test Loss: 0.101..  Test Acc: 0.981.. \n",
      "Training loss: 49.04568483139883\n",
      "Epoch: 24/30..  Training Loss: 0.052..  Test Loss: 0.114..  Test Acc: 0.979.. \n",
      "Training loss: 52.5283372046415\n",
      "Epoch: 25/30..  Training Loss: 0.056..  Test Loss: 0.099..  Test Acc: 0.982.. \n",
      "Training loss: 47.378598205341405\n",
      "Epoch: 26/30..  Training Loss: 0.051..  Test Loss: 0.110..  Test Acc: 0.980.. \n",
      "Training loss: 47.19680108786815\n",
      "Epoch: 27/30..  Training Loss: 0.050..  Test Loss: 0.102..  Test Acc: 0.981.. \n",
      "Training loss: 43.639450793646574\n",
      "Epoch: 28/30..  Training Loss: 0.047..  Test Loss: 0.117..  Test Acc: 0.979.. \n",
      "Training loss: 49.2847494787095\n",
      "Epoch: 29/30..  Training Loss: 0.053..  Test Loss: 0.106..  Test Acc: 0.981.. \n",
      "Training loss: 44.02068398342044\n",
      "Epoch: 30/30..  Training Loss: 0.047..  Test Loss: 0.126..  Test Acc: 0.982.. \n"
     ]
    }
   ],
   "source": [
    "model = Classifier()\n",
    "criterion = nn.NLLLoss()\n",
    "optimizer = optim.Adam(model.parameters(), lr=0.003)\n",
    "\n",
    "epochs = 30\n",
    "steps = 0\n",
    "train_losses, test_losses = [], []\n",
    "for e in range(epochs):\n",
    "    running_loss = 0\n",
    "    for imgs, labels, in trainLoader:\n",
    "        logps = model(imgs)\n",
    "        loss = criterion(logps, labels)\n",
    "\n",
    "        optimizer.zero_grad()\n",
    "        loss.backward()\n",
    "        optimizer.step()\n",
    "\n",
    "        running_loss += loss.item()\n",
    "    else:\n",
    "        print(f\"Training loss: {running_loss}\")\n",
    "        \n",
    "        test_loss = 0\n",
    "        acc = 0\n",
    "        #Disable gradients for validation\n",
    "        with torch.no_grad():\n",
    "            #set model to evaluation mode (w/o dropout)\n",
    "            model.eval()\n",
    "\n",
    "            for imgs, labels in testLoader:\n",
    "                log_ps = model(imgs)\n",
    "                test_loss += criterion(log_ps, labels)\n",
    "                #class probability\n",
    "                ps = torch.exp(log_ps)\n",
    "                #most likely classes\n",
    "                top_p, top_class = ps.topk(1, dim=1)\n",
    "                #check if top classes matches with the labels\n",
    "                equals = top_class == labels.view(*top_class.shape)\n",
    "                #convert 'equals' to a float tensor\n",
    "                acc += torch.mean(equals.type(torch.FloatTensor))\n",
    "\n",
    "        train_losses.append(running_loss/len(trainLoader))\n",
    "        test_losses.append(test_loss/len(testLoader))\n",
    "        print(\"Epoch: {}/{}.. \".format(e+1,epochs),\n",
    "                \"Training Loss: {:.3f}.. \".format(running_loss/len(trainLoader)),\n",
    "                \"Test Loss: {:.3f}.. \".format(test_loss/len(testLoader)),\n",
    "                \"Test Acc: {:.3f}.. \".format(acc/len(testLoader)))\n",
    "\n",
    "        #set model back to train mode\n",
    "        model.train()"
   ]
  },
  {
   "cell_type": "code",
   "execution_count": 6,
   "id": "360676cc",
   "metadata": {
    "ExecuteTime": {
     "end_time": "2021-05-22T01:21:13.316617Z",
     "start_time": "2021-05-22T01:21:12.525450Z"
    }
   },
   "outputs": [
    {
     "data": {
      "image/png": "[encoded data removed]",
      "text/plain": [
       "<Figure size 432x288 with 1 Axes>"
      ]
     },
     "metadata": {
      "needs_background": "light"
     },
     "output_type": "display_data"
    }
   ],
   "source": [
    "#Plot Train and Validation loss\n",
    "plt.plot(train_losses, label='Training loss')\n",
    "plt.plot(test_losses, label='Validation loss')\n",
    "plt.legend(frameon=False)\n",
    "plt.xlabel('Epochs')\n",
    "plt.ylabel('Error')\n",
    "plt.show()"
   ]
  },
  {
   "cell_type": "code",
   "execution_count": 7,
   "id": "77059e25",
   "metadata": {
    "ExecuteTime": {
     "end_time": "2021-05-22T01:21:13.424624Z",
     "start_time": "2021-05-22T01:21:13.319210Z"
    }
   },
   "outputs": [
    {
     "name": "stdout",
     "output_type": "stream",
     "text": [
      "Model:' \n",
      "\n",
      " Classifier(\n",
      "  (fc1): Linear(in_features=784, out_features=256, bias=True)\n",
      "  (fc2): Linear(in_features=256, out_features=128, bias=True)\n",
      "  (fc3): Linear(in_features=128, out_features=64, bias=True)\n",
      "  (fc4): Linear(in_features=64, out_features=10, bias=True)\n",
      "  (dropout): Dropout(p=0.2, inplace=False)\n",
      ") \n",
      "\n",
      "The state dict keys: \n",
      "\n",
      " odict_keys(['fc1.weight', 'fc1.bias', 'fc2.weight', 'fc2.bias', 'fc3.weight', 'fc3.bias', 'fc4.weight', 'fc4.bias'])\n"
     ]
    }
   ],
   "source": [
    "#Save model to file\n",
    "torch.save(model.state_dict(), 'checkpoint.pth')\n",
    "print(\"Model:' \\n\\n\", model, '\\n')\n",
    "print(\"The state dict keys: \\n\\n\", model.state_dict().keys())"
   ]
  }
 ],
 "metadata": {
  "kernelspec": {
   "display_name": "Python 3",
   "language": "python",
   "name": "python3"
  },
  "language_info": {
   "codemirror_mode": {
    "name": "ipython",
    "version": 3
   },
   "file_extension": ".py",
   "mimetype": "text/x-python",
   "name": "python",
   "nbconvert_exporter": "python",
   "pygments_lexer": "ipython3",
   "version": "3.8.7"
  }
 },
 "nbformat": 4,
 "nbformat_minor": 5
}
