{
 "cells": [
  {
   "cell_type": "code",
   "execution_count": 12,
   "id": "4fe998c9",
   "metadata": {
    "ExecuteTime": {
     "end_time": "2021-05-22T01:37:08.465417Z",
     "start_time": "2021-05-22T01:36:59.360305Z"
    }
   },
   "outputs": [],
   "source": [
    "from torch import nn, optim\n",
    "import torch\n",
    "from torchvision import datasets, transforms\n",
    "import torch.nn.functional as F\n",
    "import matplotlib.pyplot as plt"
   ]
  },
  {
   "cell_type": "code",
   "execution_count": 1,
   "id": "0440a549",
   "metadata": {
    "ExecuteTime": {
     "end_time": "2021-05-22T01:31:52.039158Z",
     "start_time": "2021-05-22T01:31:18.199608Z"
    }
   },
   "outputs": [
    {
     "name": "stdout",
     "output_type": "stream",
     "text": [
      "Collecting optuna\n",
      "  Downloading optuna-2.7.0-py3-none-any.whl (293 kB)\n",
      "\u001b[K     |████████████████████████████████| 293 kB 489 kB/s eta 0:00:01\n",
      "\u001b[?25hCollecting cliff\n",
      "  Downloading cliff-3.7.0-py3-none-any.whl (80 kB)\n",
      "\u001b[K     |████████████████████████████████| 80 kB 530 kB/s eta 0:00:01\n",
      "\u001b[?25hRequirement already satisfied: numpy in /Users/luansilva/furb_deeplearning/.direnv/python-3.9.1/lib/python3.8/site-packages (from optuna) (1.20.2)\n",
      "Requirement already satisfied: scipy!=1.4.0 in /Users/luansilva/furb_deeplearning/.direnv/python-3.9.1/lib/python3.8/site-packages (from optuna) (1.6.3)\n",
      "Collecting sqlalchemy>=1.1.0\n",
      "  Downloading SQLAlchemy-1.4.15-cp38-cp38-macosx_10_14_x86_64.whl (1.5 MB)\n",
      "\u001b[K     |████████████████████████████████| 1.5 MB 162 kB/s eta 0:00:01\n",
      "\u001b[?25hCollecting tqdm\n",
      "  Downloading tqdm-4.60.0-py2.py3-none-any.whl (75 kB)\n",
      "\u001b[K     |████████████████████████████████| 75 kB 485 kB/s  eta 0:00:01\n",
      "\u001b[?25hCollecting alembic\n",
      "  Downloading alembic-1.6.3-py2.py3-none-any.whl (164 kB)\n",
      "\u001b[K     |████████████████████████████████| 164 kB 785 kB/s eta 0:00:01\n",
      "\u001b[?25hCollecting colorlog\n",
      "  Downloading colorlog-5.0.1-py2.py3-none-any.whl (10 kB)\n",
      "Requirement already satisfied: packaging>=20.0 in /Users/luansilva/furb_deeplearning/.direnv/python-3.9.1/lib/python3.8/site-packages (from optuna) (20.9)\n",
      "Collecting cmaes>=0.8.2\n",
      "  Downloading cmaes-0.8.2-py3-none-any.whl (15 kB)\n",
      "Requirement already satisfied: pyparsing>=2.0.2 in /Users/luansilva/furb_deeplearning/.direnv/python-3.9.1/lib/python3.8/site-packages (from packaging>=20.0->optuna) (2.4.7)\n",
      "Collecting greenlet!=0.4.17\n",
      "  Downloading greenlet-1.1.0-cp38-cp38-macosx_10_14_x86_64.whl (87 kB)\n",
      "\u001b[K     |████████████████████████████████| 87 kB 730 kB/s eta 0:00:01\n",
      "\u001b[?25hCollecting python-editor>=0.3\n",
      "  Using cached python_editor-1.0.4-py3-none-any.whl (4.9 kB)\n",
      "Requirement already satisfied: python-dateutil in /Users/luansilva/furb_deeplearning/.direnv/python-3.9.1/lib/python3.8/site-packages (from alembic->optuna) (2.8.1)\n",
      "Collecting Mako\n",
      "  Downloading Mako-1.1.4-py2.py3-none-any.whl (75 kB)\n",
      "\u001b[K     |████████████████████████████████| 75 kB 570 kB/s eta 0:00:01\n",
      "\u001b[?25hCollecting PrettyTable>=0.7.2\n",
      "  Downloading prettytable-2.1.0-py3-none-any.whl (22 kB)\n",
      "Collecting pbr!=2.1.0,>=2.0.0\n",
      "  Downloading pbr-5.6.0-py2.py3-none-any.whl (111 kB)\n",
      "\u001b[K     |████████████████████████████████| 111 kB 443 kB/s eta 0:00:01\n",
      "\u001b[?25hCollecting stevedore>=2.0.1\n",
      "  Downloading stevedore-3.3.0-py3-none-any.whl (49 kB)\n",
      "\u001b[K     |████████████████████████████████| 49 kB 350 kB/s eta 0:00:01\n",
      "\u001b[?25hCollecting PyYAML>=3.12\n",
      "  Downloading PyYAML-5.4.1-cp38-cp38-macosx_10_9_x86_64.whl (253 kB)\n",
      "\u001b[K     |████████████████████████████████| 253 kB 311 kB/s eta 0:00:01\n",
      "\u001b[?25hCollecting cmd2>=1.0.0\n",
      "  Downloading cmd2-1.5.0-py3-none-any.whl (133 kB)\n",
      "\u001b[K     |████████████████████████████████| 133 kB 418 kB/s eta 0:00:01\n",
      "\u001b[?25hCollecting colorama>=0.3.7\n",
      "  Downloading colorama-0.4.4-py2.py3-none-any.whl (16 kB)\n",
      "Requirement already satisfied: attrs>=16.3.0 in /Users/luansilva/furb_deeplearning/.direnv/python-3.9.1/lib/python3.8/site-packages (from cmd2>=1.0.0->cliff->optuna) (20.3.0)\n",
      "Collecting pyperclip>=1.6\n",
      "  Downloading pyperclip-1.8.2.tar.gz (20 kB)\n",
      "Requirement already satisfied: wcwidth>=0.1.7 in /Users/luansilva/furb_deeplearning/.direnv/python-3.9.1/lib/python3.8/site-packages (from cmd2>=1.0.0->cliff->optuna) (0.2.5)\n",
      "Requirement already satisfied: MarkupSafe>=0.9.2 in /Users/luansilva/furb_deeplearning/.direnv/python-3.9.1/lib/python3.8/site-packages (from Mako->alembic->optuna) (1.1.1)\n",
      "Requirement already satisfied: six>=1.5 in /Users/luansilva/furb_deeplearning/.direnv/python-3.9.1/lib/python3.8/site-packages (from python-dateutil->alembic->optuna) (1.15.0)\n",
      "Building wheels for collected packages: pyperclip\n",
      "  Building wheel for pyperclip (setup.py) ... \u001b[?25ldone\n",
      "\u001b[?25h  Created wheel for pyperclip: filename=pyperclip-1.8.2-py3-none-any.whl size=11107 sha256=211c8406df7773b86860c924c244fd78499d2bdf80a2b97c061bb0d338dc3075\n",
      "  Stored in directory: /Users/luansilva/Library/Caches/pip/wheels/7f/1a/65/84ff8c386bec21fca6d220ea1f5498a0367883a78dd5ba6122\n",
      "Successfully built pyperclip\n",
      "Installing collected packages: pyperclip, pbr, greenlet, colorama, stevedore, sqlalchemy, PyYAML, python-editor, PrettyTable, Mako, cmd2, tqdm, colorlog, cmaes, cliff, alembic, optuna\n",
      "Successfully installed Mako-1.1.4 PrettyTable-2.1.0 PyYAML-5.4.1 alembic-1.6.3 cliff-3.7.0 cmaes-0.8.2 cmd2-1.5.0 colorama-0.4.4 colorlog-5.0.1 greenlet-1.1.0 optuna-2.7.0 pbr-5.6.0 pyperclip-1.8.2 python-editor-1.0.4 sqlalchemy-1.4.15 stevedore-3.3.0 tqdm-4.60.0\n",
      "\u001b[33mWARNING: You are using pip version 21.0.1; however, version 21.1.1 is available.\n",
      "You should consider upgrading via the '/Users/luansilva/furb_deeplearning/.direnv/python-3.9.1/bin/python -m pip install --upgrade pip' command.\u001b[0m\n"
     ]
    }
   ],
   "source": [
    "!pip install optuna"
   ]
  },
  {
   "cell_type": "code",
   "execution_count": 2,
   "id": "9de0da53",
   "metadata": {
    "ExecuteTime": {
     "end_time": "2021-05-22T01:32:27.345790Z",
     "start_time": "2021-05-22T01:31:52.969205Z"
    }
   },
   "outputs": [],
   "source": [
    "import optuna"
   ]
  },
  {
   "cell_type": "code",
   "execution_count": 13,
   "id": "bc50ab88",
   "metadata": {
    "ExecuteTime": {
     "end_time": "2021-05-22T01:37:08.728118Z",
     "start_time": "2021-05-22T01:37:08.468841Z"
    }
   },
   "outputs": [],
   "source": [
    "#Network architecture\n",
    "class Classifier(nn.Module):\n",
    "    def __init__(self, node):\n",
    "        super().__init__()\n",
    "        self.fc1 = nn.Linear(784, node[0])\n",
    "        self.fc2 = nn.Linear(node[0], node[1])\n",
    "        self.fc3 = nn.Linear(node[1], node[2])\n",
    "        self.fc4 = nn.Linear(node[2], 10)\n",
    "\n",
    "        #20% probability Dropout \n",
    "        self.dropout = nn.Dropout(p=.2)\n",
    "\n",
    "    def forward(self, x):\n",
    "        #flatten input tensor\n",
    "        x = x.view(x.shape[0], -1)\n",
    "\n",
    "        x = self.dropout(F.relu(self.fc1(x)))\n",
    "        x = self.dropout(F.relu(self.fc2(x)))\n",
    "        x = self.dropout(F.relu(self.fc3(x)))\n",
    "        x = F.log_softmax(self.fc4(x), dim=1)\n",
    "        return x"
   ]
  },
  {
   "cell_type": "code",
   "execution_count": 14,
   "id": "c9610370",
   "metadata": {
    "ExecuteTime": {
     "end_time": "2021-05-22T01:37:09.311501Z",
     "start_time": "2021-05-22T01:37:08.742951Z"
    }
   },
   "outputs": [],
   "source": [
    "transform = transforms.ToTensor()\n",
    "\n",
    "#Download and load training data\n",
    "trainset = datasets.MNIST('~/.pytorch/MNIST_data/',download=True,train=True,transform=transform)\n",
    "trainLoader = torch.utils.data.DataLoader(trainset, batch_size=64,shuffle=True)\n",
    "\n",
    "#Download and load test data\n",
    "testset = datasets.MNIST('~/.pytorch/MNIST_data/',download=True,train=False,transform=transform)\n",
    "testLoader = torch.utils.data.DataLoader(testset, batch_size=64,shuffle=True)"
   ]
  },
  {
   "cell_type": "code",
   "execution_count": 4,
   "id": "eea80459",
   "metadata": {
    "ExecuteTime": {
     "end_time": "2021-05-22T01:12:39.918989Z",
     "start_time": "2021-05-22T01:12:39.596591Z"
    }
   },
   "outputs": [
    {
     "data": {
      "text/plain": [
       "<matplotlib.image.AxesImage at 0x1269e0460>"
      ]
     },
     "execution_count": 4,
     "metadata": {},
     "output_type": "execute_result"
    },
    {
     "data": {
      "image/png": "[encoded data removed]",
      "text/plain": [
       "<Figure size 432x288 with 1 Axes>"
      ]
     },
     "metadata": {
      "needs_background": "light"
     },
     "output_type": "display_data"
    }
   ],
   "source": [
    "image, label = next(iter(trainLoader))\n",
    "plt.imshow(image[0,:].reshape(28,28),cmap='binary')"
   ]
  },
  {
   "cell_type": "code",
   "execution_count": 27,
   "id": "4368b479",
   "metadata": {
    "ExecuteTime": {
     "end_time": "2021-05-22T01:54:05.469479Z",
     "start_time": "2021-05-22T01:54:05.443377Z"
    }
   },
   "outputs": [],
   "source": [
    "def train(trial):\n",
    "    \n",
    "    lr = trial.suggest_loguniform('lr', 1e-3, 1e-2)\n",
    "    \n",
    "    node_params = [\n",
    "        trial.suggest_int('node0',200,400),\n",
    "        trial.suggest_int('node1',300,500),\n",
    "        trial.suggest_int('node2',100,300)\n",
    "    ]\n",
    "        \n",
    "    model = Classifier(node_params)\n",
    "    criterion = nn.NLLLoss()\n",
    "    optimizer = optim.Adam(model.parameters(), lr=lr)\n",
    "\n",
    "    epochs = 5\n",
    "    steps = 0\n",
    "    \n",
    "    train_losses, test_losses = [], []\n",
    "    for e in range(epochs):\n",
    "        running_loss = 0\n",
    "        for imgs, labels, in trainLoader:\n",
    "            logps = model(imgs)\n",
    "            loss = criterion(logps, labels)\n",
    "\n",
    "            optimizer.zero_grad()\n",
    "            loss.backward()\n",
    "            optimizer.step()\n",
    "\n",
    "            running_loss += loss.item()\n",
    "        else:\n",
    "            print(f\"Training loss: {running_loss}\")\n",
    "\n",
    "            test_loss = 0\n",
    "            acc = 0\n",
    "            #Disable gradients for validation\n",
    "            with torch.no_grad():\n",
    "                #set model to evaluation mode (w/o dropout)\n",
    "                model.eval()\n",
    "\n",
    "                for imgs, labels in testLoader:\n",
    "                    log_ps = model(imgs)\n",
    "                    test_loss += criterion(log_ps, labels)\n",
    "                    #class probability\n",
    "                    ps = torch.exp(log_ps)\n",
    "                    #most likely classes\n",
    "                    top_p, top_class = ps.topk(1, dim=1)\n",
    "                    #check if top classes matches with the labels\n",
    "                    equals = top_class == labels.view(*top_class.shape)\n",
    "                    #convert 'equals' to a float tensor\n",
    "                    acc += torch.mean(equals.type(torch.FloatTensor))\n",
    "\n",
    "            train_losses.append(running_loss/len(trainLoader))\n",
    "            test_losses.append(test_loss/len(testLoader))\n",
    "            print(\"Epoch: {}/{}.. \".format(e+1,epochs),\n",
    "                    \"Training Loss: {:.3f}.. \".format(running_loss/len(trainLoader)),\n",
    "                    \"Test Loss: {:.3f}.. \".format(test_loss/len(testLoader)),\n",
    "                    \"Test Acc: {:.3f}.. \".format(acc/len(testLoader)))\n",
    "\n",
    "            #set model back to train mode\n",
    "            model.train()\n",
    "            \n",
    "    return acc"
   ]
  },
  {
   "cell_type": "code",
   "execution_count": 28,
   "id": "10237a3c",
   "metadata": {
    "ExecuteTime": {
     "end_time": "2021-05-22T01:59:03.647356Z",
     "start_time": "2021-05-22T01:54:06.563526Z"
    }
   },
   "outputs": [
    {
     "name": "stderr",
     "output_type": "stream",
     "text": [
      "\u001b[32m[I 2021-05-21 22:54:06,565]\u001b[0m A new study created in memory with name: no-name-96079c2a-427c-4619-92f4-cef84acacb77\u001b[0m\n"
     ]
    },
    {
     "name": "stdout",
     "output_type": "stream",
     "text": [
      "Training loss: 262.88513598404825\n",
      "Epoch: 1/5..  Training Loss: 0.280..  Test Loss: 0.149..  Test Acc: 0.954.. \n",
      "Training loss: 118.87178183533251\n",
      "Epoch: 2/5..  Training Loss: 0.127..  Test Loss: 0.092..  Test Acc: 0.971.. \n",
      "Training loss: 90.08182998350821\n",
      "Epoch: 3/5..  Training Loss: 0.096..  Test Loss: 0.087..  Test Acc: 0.975.. \n",
      "Training loss: 76.47511644277256\n",
      "Epoch: 4/5..  Training Loss: 0.082..  Test Loss: 0.072..  Test Acc: 0.979.. \n",
      "Training loss: 68.10430105484556\n"
     ]
    },
    {
     "name": "stderr",
     "output_type": "stream",
     "text": [
      "\u001b[32m[I 2021-05-21 22:55:36,833]\u001b[0m Trial 0 finished with value: 154.015625 and parameters: {'lr': 0.0013893455370850457, 'node0': 357, 'node1': 341, 'node2': 181}. Best is trial 0 with value: 154.015625.\u001b[0m\n"
     ]
    },
    {
     "name": "stdout",
     "output_type": "stream",
     "text": [
      "Epoch: 5/5..  Training Loss: 0.073..  Test Loss: 0.070..  Test Acc: 0.981.. \n",
      "Training loss: 265.6224224604666\n",
      "Epoch: 1/5..  Training Loss: 0.283..  Test Loss: 0.130..  Test Acc: 0.964.. \n",
      "Training loss: 160.83001809939742\n",
      "Epoch: 2/5..  Training Loss: 0.171..  Test Loss: 0.133..  Test Acc: 0.963.. \n",
      "Training loss: 137.83144275518134\n",
      "Epoch: 3/5..  Training Loss: 0.147..  Test Loss: 0.126..  Test Acc: 0.966.. \n",
      "Training loss: 126.7224253078457\n",
      "Epoch: 4/5..  Training Loss: 0.135..  Test Loss: 0.107..  Test Acc: 0.972.. \n",
      "Training loss: 124.2035732138902\n"
     ]
    },
    {
     "name": "stderr",
     "output_type": "stream",
     "text": [
      "\u001b[32m[I 2021-05-21 22:57:13,951]\u001b[0m Trial 1 finished with value: 152.09375 and parameters: {'lr': 0.0039024604362195535, 'node0': 370, 'node1': 354, 'node2': 110}. Best is trial 0 with value: 154.015625.\u001b[0m\n"
     ]
    },
    {
     "name": "stdout",
     "output_type": "stream",
     "text": [
      "Epoch: 5/5..  Training Loss: 0.132..  Test Loss: 0.116..  Test Acc: 0.969.. \n",
      "Training loss: 259.1056257970631\n",
      "Epoch: 1/5..  Training Loss: 0.276..  Test Loss: 0.124..  Test Acc: 0.962.. \n",
      "Training loss: 113.61899766605347\n",
      "Epoch: 2/5..  Training Loss: 0.121..  Test Loss: 0.089..  Test Acc: 0.973.. \n",
      "Training loss: 85.61906793736853\n",
      "Epoch: 3/5..  Training Loss: 0.091..  Test Loss: 0.089..  Test Acc: 0.973.. \n",
      "Training loss: 71.43690823297948\n",
      "Epoch: 4/5..  Training Loss: 0.076..  Test Loss: 0.080..  Test Acc: 0.977.. \n",
      "Training loss: 60.43583781516645\n"
     ]
    },
    {
     "name": "stderr",
     "output_type": "stream",
     "text": [
      "\u001b[32m[I 2021-05-21 22:59:03,603]\u001b[0m Trial 2 finished with value: 153.4375 and parameters: {'lr': 0.0011284948365188707, 'node0': 376, 'node1': 425, 'node2': 195}. Best is trial 0 with value: 154.015625.\u001b[0m\n"
     ]
    },
    {
     "name": "stdout",
     "output_type": "stream",
     "text": [
      "Epoch: 5/5..  Training Loss: 0.064..  Test Loss: 0.077..  Test Acc: 0.977.. \n"
     ]
    }
   ],
   "source": [
    "study = optuna.create_study(direction=\"maximize\")\n",
    "study.optimize(train, n_trials=3)"
   ]
  },
  {
   "cell_type": "code",
   "execution_count": 30,
   "id": "219bb300",
   "metadata": {
    "ExecuteTime": {
     "end_time": "2021-05-22T02:00:11.790210Z",
     "start_time": "2021-05-22T02:00:11.716053Z"
    }
   },
   "outputs": [
    {
     "data": {
      "text/plain": [
       "{'lr': 0.0013893455370850457, 'node0': 357, 'node1': 341, 'node2': 181}"
      ]
     },
     "execution_count": 30,
     "metadata": {},
     "output_type": "execute_result"
    }
   ],
   "source": [
    "study.best_params"
   ]
  }
 ],
 "metadata": {
  "kernelspec": {
   "display_name": "Python 3",
   "language": "python",
   "name": "python3"
  },
  "language_info": {
   "codemirror_mode": {
    "name": "ipython",
    "version": 3
   },
   "file_extension": ".py",
   "mimetype": "text/x-python",
   "name": "python",
   "nbconvert_exporter": "python",
   "pygments_lexer": "ipython3",
   "version": "3.8.7"
  }
 },
 "nbformat": 4,
 "nbformat_minor": 5
}
